{
  "nbformat": 4,
  "nbformat_minor": 0,
  "metadata": {
    "colab": {
      "provenance": []
    },
    "kernelspec": {
      "name": "python3",
      "display_name": "Python 3"
    },
    "language_info": {
      "name": "python"
    }
  },
  "cells": [
    {
      "cell_type": "markdown",
      "source": [
        "**Tarea Python. Metrología**"
      ],
      "metadata": {
        "id": "SPySon0fl8pX"
      }
    },
    {
      "cell_type": "markdown",
      "source": [
        "**Librerias**"
      ],
      "metadata": {
        "id": "1l5LQx98meEb"
      }
    },
    {
      "cell_type": "code",
      "execution_count": 1,
      "metadata": {
        "id": "Na7sXf6JmbjY"
      },
      "outputs": [],
      "source": [
        "import pandas as pd\n",
        "import statistics"
      ]
    },
    {
      "cell_type": "markdown",
      "source": [
        "**Datos**"
      ],
      "metadata": {
        "id": "jVKnzsfsmoRu"
      }
    },
    {
      "cell_type": "code",
      "source": [
        "data = {\n",
        "    'Measurement': [13, 14, 14, 15, 15, 16, 16, 17, 17, 18, 19, 24],\n",
        "    'Length (m)': [1.118, 1.262, 1.480, 1.362, 0.958, 1.055, 0.957, 1.089, 1.197, 1.036, 0.984, 0.692],\n",
        "    'Measurement_2': [25, 16, 19, 16, 16, 27, 18, 22, 19, 25, 17, 16],\n",
        "    'Length_2 (m)': [0.861, 1.085, 0.834, 1.063, 0.873, 1.236, 1.067, 1.045, 1.017, 1.036, 0.879, 0.692]\n",
        "}\n"
      ],
      "metadata": {
        "id": "mf35eRY1moxx"
      },
      "execution_count": 2,
      "outputs": []
    },
    {
      "cell_type": "code",
      "source": [
        "df = pd.DataFrame(data)\n",
        "\n",
        "#  Generar estadísticas descriptivas para cada columna\n",
        "descriptive_stats_pandas = df.describe()"
      ],
      "metadata": {
        "id": "dO4pI_BJm24V"
      },
      "execution_count": 3,
      "outputs": []
    },
    {
      "cell_type": "markdown",
      "source": [
        "Calcular estadisticas descriptivas"
      ],
      "metadata": {
        "id": "QBuGR-c7m9vE"
      }
    },
    {
      "cell_type": "code",
      "source": [
        "subgroup_1 = df[df['Measurement'] > 15]  # Subgrupo con Measurement > 15\n",
        "subgroup_2 = df[df['Length (m)'] < 1.0]  # Subgrupo con Length (m) < 1.0\n",
        "\n",
        "# Step 5: Utilizar la librería statistics para calcular estadísticas descriptivas\n",
        "mean_length = statistics.mean(df['Length (m)'])\n",
        "stdev_length = statistics.stdev(df['Length (m)'])\n",
        "mean_length_2 = statistics.mean(df['Length_2 (m)'])\n",
        "stdev_length_2 = statistics.stdev(df['Length_2 (m)'])\n"
      ],
      "metadata": {
        "id": "kUMgG_zYnBE5"
      },
      "execution_count": 4,
      "outputs": []
    },
    {
      "cell_type": "markdown",
      "source": [
        "Comparación"
      ],
      "metadata": {
        "id": "sAGzlmvWnFHO"
      }
    },
    {
      "cell_type": "code",
      "source": [
        "comparacion = {\n",
        "    \"Pandas Mean Length (m)\": descriptive_stats_pandas.loc[\"mean\", \"Length (m)\"],\n",
        "    \"Statistics Mean Length (m)\": mean_length,\n",
        "    \"Pandas Stdev Length (m)\": descriptive_stats_pandas.loc[\"std\", \"Length (m)\"],\n",
        "    \"Statistics Stdev Length (m)\": stdev_length,\n",
        "    \"Pandas Mean Length_2 (m)\": descriptive_stats_pandas.loc[\"mean\", \"Length_2 (m)\"],\n",
        "    \"Statistics Mean Length_2 (m)\": mean_length_2,\n",
        "    \"Pandas Stdev Length_2 (m)\": descriptive_stats_pandas.loc[\"std\", \"Length_2 (m)\"],\n",
        "    \"Statistics Stdev Length_2 (m)\": stdev_length_2\n",
        "}"
      ],
      "metadata": {
        "id": "vzdtGUjjnEn1"
      },
      "execution_count": 5,
      "outputs": []
    },
    {
      "cell_type": "markdown",
      "source": [
        "Conversion y resultados"
      ],
      "metadata": {
        "id": "yW2D2TXqnJtU"
      }
    },
    {
      "cell_type": "code",
      "source": [
        "# Convertir la comparación en un DataFrame para mejor visualización\n",
        "comparison_df = pd.DataFrame(comparacion, index=[\"Mean\", \"Standard Deviation\"])\n",
        "\n",
        "# Mostrar los resultados\n",
        "print(\"Estadísticas Descriptivas con Pandas:\")\n",
        "print(descriptive_stats_pandas)\n",
        "\n",
        "print(\"\\nSubgrupo 1 (Measurement > 15):\")\n",
        "print(subgroup_1)\n",
        "\n",
        "print(\"\\nSubgrupo 2 (Length (m) < 1.0):\")\n",
        "print(subgroup_2)\n",
        "\n",
        "print(\"\\nComparación de resultados entre Pandas y statistics:\")\n",
        "print(comparison_df)"
      ],
      "metadata": {
        "colab": {
          "base_uri": "https://localhost:8080/"
        },
        "id": "iTHfGOCanOB7",
        "outputId": "11bda601-394f-41f8-b31d-00e23e6d6d5d"
      },
      "execution_count": 6,
      "outputs": [
        {
          "output_type": "stream",
          "name": "stdout",
          "text": [
            "Estadísticas Descriptivas con Pandas:\n",
            "       Measurement  Length (m)  Measurement_2  Length_2 (m)\n",
            "count    12.000000   12.000000      12.000000     12.000000\n",
            "mean     16.500000    1.099167      19.666667      0.974000\n",
            "std       2.938769    0.207975       4.052683      0.147521\n",
            "min      13.000000    0.692000      16.000000      0.692000\n",
            "25%      14.750000    0.977500      16.000000      0.870000\n",
            "50%      16.000000    1.072000      18.500000      1.026500\n",
            "75%      17.250000    1.213250      22.750000      1.064000\n",
            "max      24.000000    1.480000      27.000000      1.236000\n",
            "\n",
            "Subgrupo 1 (Measurement > 15):\n",
            "    Measurement  Length (m)  Measurement_2  Length_2 (m)\n",
            "5            16       1.055             27         1.236\n",
            "6            16       0.957             18         1.067\n",
            "7            17       1.089             22         1.045\n",
            "8            17       1.197             19         1.017\n",
            "9            18       1.036             25         1.036\n",
            "10           19       0.984             17         0.879\n",
            "11           24       0.692             16         0.692\n",
            "\n",
            "Subgrupo 2 (Length (m) < 1.0):\n",
            "    Measurement  Length (m)  Measurement_2  Length_2 (m)\n",
            "4            15       0.958             16         0.873\n",
            "6            16       0.957             18         1.067\n",
            "10           19       0.984             17         0.879\n",
            "11           24       0.692             16         0.692\n",
            "\n",
            "Comparación de resultados entre Pandas y statistics:\n",
            "                    Pandas Mean Length (m)  Statistics Mean Length (m)  \\\n",
            "Mean                              1.099167                    1.099167   \n",
            "Standard Deviation                1.099167                    1.099167   \n",
            "\n",
            "                    Pandas Stdev Length (m)  Statistics Stdev Length (m)  \\\n",
            "Mean                               0.207975                     0.207975   \n",
            "Standard Deviation                 0.207975                     0.207975   \n",
            "\n",
            "                    Pandas Mean Length_2 (m)  Statistics Mean Length_2 (m)  \\\n",
            "Mean                                   0.974                         0.974   \n",
            "Standard Deviation                     0.974                         0.974   \n",
            "\n",
            "                    Pandas Stdev Length_2 (m)  Statistics Stdev Length_2 (m)  \n",
            "Mean                                 0.147521                       0.147521  \n",
            "Standard Deviation                   0.147521                       0.147521  \n"
          ]
        }
      ]
    }
  ]
}